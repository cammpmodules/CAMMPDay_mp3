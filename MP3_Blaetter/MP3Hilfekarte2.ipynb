{
 "cells": [
  {
   "cell_type": "markdown",
   "metadata": {},
   "source": [
    "**Tipp:**  Wähle eine Parabel, deren Scheitelpunkt zwischen  0s und 6s liegt. Die Scheitelpunktsformel einer Parabel lautet $f(t) = a \\cdot (t + b)2 + c$ mit Scheitelpunkt $S = (−b,c)$.\n"
   ]
  },
  {
   "cell_type": "markdown",
   "metadata": {},
   "source": [
    "![Hilfe2.png](../MP3_Bilder/Hilfe2.png)"
   ]
  }
 ],
 "metadata": {
  "kernelspec": {
   "display_name": "Julia 1.1.0",
   "language": "julia",
   "name": "julia-1.1"
  },
  "language_info": {
   "file_extension": ".jl",
   "mimetype": "application/julia",
   "name": "julia",
   "version": "1.1.0"
  }
 },
 "nbformat": 4,
 "nbformat_minor": 2
}
