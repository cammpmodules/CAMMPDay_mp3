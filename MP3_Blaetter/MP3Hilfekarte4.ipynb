{
 "cells": [
  {
   "cell_type": "markdown",
   "metadata": {},
   "source": [
    "# Hilfekarte 4\n",
    "\n",
    "**Hinweis:** Zur Lösung eueres Integrals wird folgende Integrationsregel verwendet:\n",
    "\n",
    "**Partielle Integration**\n",
    "$$\\int f'(x)g(x) = f(x)g(x) \\int f(x)g'(x)$$\n",
    "\n",
    "*Wählt $\\cos(t)$ bzw. $\\sin(t)$ als $f_0(t)$ und $t$ als $g(t)$. Beachtet beim Integrieren auch das $n$ in $\\sin(n\\cdot t)$ bzw. $\\cos(n \\cdot t)$.*"
   ]
  }
 ],
 "metadata": {
  "kernelspec": {
   "display_name": "Julia 1.1.0",
   "language": "julia",
   "name": "julia-1.1"
  },
  "language_info": {
   "file_extension": ".jl",
   "mimetype": "application/julia",
   "name": "julia",
   "version": "1.1.0"
  }
 },
 "nbformat": 4,
 "nbformat_minor": 2
}
