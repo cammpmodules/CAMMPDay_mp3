{
 "cells": [
  {
   "cell_type": "markdown",
   "metadata": {},
   "source": [
    "**Tipp:**  Wähle eine Parabel, die nach unten geöffnet ist und deren eine Nullstelle $ \\le 0 $ und deren andere Nullstelle $ \\ge 6 $ ist.   Die Scheitelpunktsformel einer Parabel lautet $ f(t)=a \\cdot (t+b)^2+c $ mit Scheitelpunkt $ S=(-b,c) $."
   ]
  },
  {
   "cell_type": "markdown",
   "metadata": {},
   "source": [
    "![Hilfe3.png](../MP3_Bilder)"
   ]
  }
 ],
 "metadata": {
  "kernelspec": {
   "display_name": "Julia 1.1.0",
   "language": "julia",
   "name": "julia-1.1"
  },
  "language_info": {
   "file_extension": ".jl",
   "mimetype": "application/julia",
   "name": "julia",
   "version": "1.1.0"
  }
 },
 "nbformat": 4,
 "nbformat_minor": 2
}
