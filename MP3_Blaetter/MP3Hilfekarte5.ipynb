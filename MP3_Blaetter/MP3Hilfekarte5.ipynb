{
 "cells": [
  {
   "cell_type": "markdown",
   "metadata": {},
   "source": [
    "# Hilfekarte 5\n",
    "\n",
    "**Hinweis:** Anhand des Funktionsgraphen der Cosinusfunktion können die benötigten Werte des Cosinus zur Berechnung der Fourierreihe abgelesen werden.\n",
    "\n",
    "![Cosinus](../MP3_Bilder/Cosinus.png)"
   ]
  }
 ],
 "metadata": {
  "kernelspec": {
   "display_name": "Julia 1.1.0",
   "language": "julia",
   "name": "julia-1.1"
  },
  "language_info": {
   "file_extension": ".jl",
   "mimetype": "application/julia",
   "name": "julia",
   "version": "1.1.0"
  }
 },
 "nbformat": 4,
 "nbformat_minor": 2
}
